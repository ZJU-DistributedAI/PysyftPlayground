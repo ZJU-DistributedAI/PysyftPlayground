{
 "cells": [
  {
   "cell_type": "code",
   "execution_count": 2,
   "metadata": {},
   "outputs": [
    {
     "name": "stderr",
     "output_type": "stream",
     "text": [
      "WARNING:root:Torch was already hooked... skipping hooking process\n"
     ]
    },
    {
     "name": "stdout",
     "output_type": "stream",
     "text": [
      "Variable containing:\n",
      " 0  0\n",
      " 0  1\n",
      " 1  0\n",
      " 1  1\n",
      "[syft.core.frameworks.torch.tensor.FloatTensor of size 4x2]\n",
      "\n"
     ]
    }
   ],
   "source": [
    "import syft as sy\n",
    "hook = sy.TorchHook()\n",
    "from torch import nn, optim\n",
    "\n",
    "# A Toy Dataset\n",
    "data1 = sy.Var(sy.FloatTensor([[0,0],[0,1],[1,0],[1,1]]))\n",
    "print(data1)"
   ]
  },
  {
   "cell_type": "code",
   "execution_count": 3,
   "metadata": {},
   "outputs": [],
   "source": [
    "# A Toy Dataset\n",
    "data = sy.Var(sy.FloatTensor([[0,0],[0,1],[1,0],[1,1]]))\n",
    "target = sy.Var(sy.FloatTensor([[0],[0],[1],[1]]))\n",
    "# A Toy Model\n",
    "model = nn.Linear(2,1)\n",
    "def train():\n",
    "    # Training Logic\n",
    "    opt = optim.SGD(params=model.parameters(),lr=0.1)\n",
    "    for iter in range(20):\n",
    "\n",
    "        # 1) erase previous gradients (if they exist)\n",
    "        opt.zero_grad()\n",
    "\n",
    "        # 2) make a prediction\n",
    "        pred = model(data)\n",
    "\n",
    "        # 3) calculate how much we missed\n",
    "        loss = ((pred - target)**2).sum()\n",
    "\n",
    "        # 4) figure out which weights caused us to miss\n",
    "        loss.backward()\n",
    "\n",
    "        # 5) change those weights\n",
    "        opt.step()\n",
    "\n",
    "        # 6) print our progress\n",
    "        print(loss.data[0])"
   ]
  },
  {
   "cell_type": "code",
   "execution_count": 4,
   "metadata": {},
   "outputs": [
    {
     "name": "stdout",
     "output_type": "stream",
     "text": [
      "2.480665683746338\n",
      "0.3744840621948242\n",
      "0.1490488201379776\n",
      "0.08914659917354584\n",
      "0.05702805146574974\n",
      "0.03683601692318916\n",
      "0.023860502988100052\n",
      "0.01549103669822216\n",
      "0.010082890279591084\n",
      "0.006582002155482769\n",
      "0.004311083350330591\n",
      "0.00283449562266469\n",
      "0.0018717320635914803\n",
      "0.0012419970007613301\n",
      "0.000828591815661639\n",
      "0.0005560780991800129\n",
      "0.0003756026562768966\n",
      "0.00025545910466462374\n",
      "0.00017502046830486506\n",
      "0.00012082819011993706\n"
     ]
    }
   ],
   "source": [
    "train()"
   ]
  },
  {
   "cell_type": "code",
   "execution_count": 5,
   "metadata": {},
   "outputs": [],
   "source": [
    "# create a couple workers\n",
    "bob = sy.VirtualWorker(id=\"bob\")\n",
    "alice = sy.VirtualWorker(id=\"alice\")\n",
    "# get pointers to training data on each worker by\n",
    "# sending some training data to bob and alice\n",
    "data_bob = data[0:2].send(bob)\n",
    "target_bob = target[0:2].send(bob)\n",
    "data_alice = data[2:].send(alice)\n",
    "target_alice = target[2:].send(alice)\n",
    "\n",
    "# organize pointers into a list\n",
    "datasets = [(data_bob,target_bob),(data_alice,target_alice)]\n",
    "\n",
    "# Iniitalize A Toy Model\n",
    "model = nn.Linear(2,1)\n",
    "\n",
    "def train():\n",
    "    # Training Logic\n",
    "    opt = optim.SGD(params=model.parameters(),lr=0.1)\n",
    "    for iter in range(20):\n",
    "        \n",
    "        # NEW) iterate through each worker's dataset\n",
    "        for data,target in datasets:\n",
    "            \n",
    "            # NEW) send model to correct worker\n",
    "            model.send(data.location)\n",
    "\n",
    "            # 1) erase previous gradients (if they exist)\n",
    "            opt.zero_grad()\n",
    "\n",
    "            # 2) make a prediction\n",
    "            pred = model(data)\n",
    "\n",
    "            # 3) calculate how much we missed\n",
    "            loss = ((pred - target)**2).sum()\n",
    "\n",
    "            # 4) figure out which weights caused us to miss\n",
    "            loss.backward()\n",
    "\n",
    "            # NEW) get model (with gradients)\n",
    "            model.get()\n",
    "\n",
    "            # 5) change those weights\n",
    "            opt.step()\n",
    "\n",
    "            # 6) print our progress\n",
    "            print(loss.get().data[0]) # NEW) slight edit... need to call .get() on loss"
   ]
  },
  {
   "cell_type": "code",
   "execution_count": 6,
   "metadata": {},
   "outputs": [
    {
     "name": "stdout",
     "output_type": "stream",
     "text": [
      "0.3257891833782196\n",
      "1.0029733180999756\n",
      "0.6419966220855713\n",
      "0.2518211007118225\n",
      "0.4571426510810852\n",
      "0.16013969480991364\n",
      "0.31190192699432373\n",
      "0.11161743104457855\n",
      "0.21451550722122192\n",
      "0.07930319011211395\n",
      "0.14908535778522491\n",
      "0.057053592056035995\n",
      "0.10462719947099686\n",
      "0.041462622582912445\n",
      "0.07407577335834503\n",
      "0.030377252027392387\n",
      "0.05285777151584625\n",
      "0.0223979614675045\n",
      "0.03797813132405281\n",
      "0.016596117988228798\n",
      "0.027451517060399055\n",
      "0.012343203648924828\n",
      "0.01994597539305687\n",
      "0.009205787442624569\n",
      "0.014557414688169956\n",
      "0.006879961583763361\n",
      "0.010665345005691051\n",
      "0.005149348638951778\n",
      "0.007839417085051537\n",
      "0.003858091775327921\n",
      "0.005778315477073193\n",
      "0.0028927046805620193\n",
      "0.004269201774150133\n",
      "0.002169900806620717\n",
      "0.0031605870462954044\n",
      "0.0016281919088214636\n",
      "0.002343868836760521\n",
      "0.0012219188502058387\n",
      "0.001740740262903273\n",
      "0.0009170923149213195\n"
     ]
    }
   ],
   "source": [
    "train()"
   ]
  },
  {
   "cell_type": "code",
   "execution_count": null,
   "metadata": {},
   "outputs": [],
   "source": []
  }
 ],
 "metadata": {
  "kernelspec": {
   "display_name": "Python 3",
   "language": "python",
   "name": "python3"
  },
  "language_info": {
   "codemirror_mode": {
    "name": "ipython",
    "version": 3
   },
   "file_extension": ".py",
   "mimetype": "text/x-python",
   "name": "python",
   "nbconvert_exporter": "python",
   "pygments_lexer": "ipython3",
   "version": "3.6.5"
  }
 },
 "nbformat": 4,
 "nbformat_minor": 2
}
