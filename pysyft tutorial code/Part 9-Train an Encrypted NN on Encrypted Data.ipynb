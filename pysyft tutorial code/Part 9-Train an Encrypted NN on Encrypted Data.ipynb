{
 "cells": [
  {
   "cell_type": "markdown",
   "metadata": {},
   "source": [
    "# Step 1: Create Workers and Toy Data"
   ]
  },
  {
   "cell_type": "code",
   "execution_count": 1,
   "metadata": {},
   "outputs": [],
   "source": [
    "import syft as sy\n",
    "hook = sy.TorchHook(verbose=True)\n",
    "\n",
    "me = hook.local_worker\n",
    "me.is_client_worker = False\n",
    "\n",
    "bob = sy.VirtualWorker(id=\"bob\", hook=hook, is_client_worker=False)\n",
    "alice = sy.VirtualWorker(id=\"alice\", hook=hook, is_client_worker=False)"
   ]
  },
  {
   "cell_type": "code",
   "execution_count": 2,
   "metadata": {},
   "outputs": [],
   "source": [
    "# create our dataset\n",
    "data = sy.FloatTensor([[0,0],[0,1],[1,0],[1,1]])\n",
    "target = sy.FloatTensor([[0],[0],[1],[1]])"
   ]
  },
  {
   "cell_type": "code",
   "execution_count": 3,
   "metadata": {},
   "outputs": [],
   "source": [
    "model = sy.zeros(2,1)"
   ]
  },
  {
   "cell_type": "code",
   "execution_count": 4,
   "metadata": {},
   "outputs": [
    {
     "data": {
      "text/plain": [
       "\n",
       " 0  0\n",
       " 0  1\n",
       " 1  0\n",
       " 1  1\n",
       "[syft.core.frameworks.torch.tensor.FloatTensor of size 4x2]"
      ]
     },
     "execution_count": 4,
     "metadata": {},
     "output_type": "execute_result"
    }
   ],
   "source": [
    "data"
   ]
  },
  {
   "cell_type": "code",
   "execution_count": 5,
   "metadata": {},
   "outputs": [],
   "source": [
    "data = data.fix_precision().share(alice, bob)\n",
    "target = target.fix_precision().share(alice, bob)\n",
    "model = model.fix_precision().share(alice, bob)"
   ]
  },
  {
   "cell_type": "code",
   "execution_count": 6,
   "metadata": {},
   "outputs": [
    {
     "name": "stdout",
     "output_type": "stream",
     "text": [
      "2.0\n",
      "1.6000000014901161\n",
      "1.2999999821186066\n",
      "1.0720000118017197\n",
      "0.896000012755394\n",
      "0.7599999904632568\n",
      "0.6499999910593033\n",
      "0.5619999840855598\n",
      "0.49000000953674316\n",
      "0.42799999564886093\n"
     ]
    }
   ],
   "source": [
    "for i in range(10):\n",
    "    pred = data.mm(model)\n",
    "    grad = pred - target\n",
    "    update = data.transpose(0,1).mm(grad)\n",
    "\n",
    "    model = model - update * 0.1\n",
    "    loss = grad.get().decode().abs().sum()\n",
    "    print(loss)"
   ]
  },
  {
   "cell_type": "code",
   "execution_count": null,
   "metadata": {},
   "outputs": [],
   "source": []
  }
 ],
 "metadata": {
  "kernelspec": {
   "display_name": "Python 3",
   "language": "python",
   "name": "python3"
  },
  "language_info": {
   "codemirror_mode": {
    "name": "ipython",
    "version": 3
   },
   "file_extension": ".py",
   "mimetype": "text/x-python",
   "name": "python",
   "nbconvert_exporter": "python",
   "pygments_lexer": "ipython3",
   "version": "3.6.5"
  }
 },
 "nbformat": 4,
 "nbformat_minor": 2
}
